{
 "cells": [
  {
   "cell_type": "code",
   "execution_count": null,
   "metadata": {},
   "outputs": [],
   "source": [
    "import torch\n",
    "from torch import nn\n",
    "\n",
    "from torch.utils.data import DataLoader\n",
    "from torch.utils.data.sampler import SubsetRandomSampler\n",
    "\n",
    "import torchvision\n",
    "from torchvision import transforms\n",
    "from torchvision import datasets"
   ]
  },
  {
   "cell_type": "code",
   "execution_count": null,
   "metadata": {},
   "outputs": [],
   "source": [
    "import os\n",
    "import random\n",
    "\n",
    "import numpy as np\n",
    "import matplotlib.pyplot as plt"
   ]
  },
  {
   "cell_type": "code",
   "execution_count": null,
   "metadata": {},
   "outputs": [],
   "source": [
    "def train_test_split(dataset, test_split=0.1, random_seed= 42):\n",
    "\n",
    "    dataset_size = len(dataset) \n",
    "    indices = list(range(dataset_size))\n",
    "    split = int(np.floor(test_split * dataset_size))\n",
    "\n",
    "    np.random.seed(random_seed)\n",
    "    np.random.shuffle(indices)\n",
    "    train_indices, test_indices = indices[split:], indices[:split]\n",
    "\n",
    "    train_sampler = SubsetRandomSampler(train_indices)\n",
    "    test_sampler = SubsetRandomSampler(test_indices)\n",
    "\n",
    "    return train_sampler, test_sampler\n",
    "\n"
   ]
  },
  {
   "cell_type": "code",
   "execution_count": null,
   "metadata": {},
   "outputs": [],
   "source": [
    "images = datasets.ImageFolder(\"images\", transform= transforms.ToTensor())\n",
    "\n",
    "train_sampler, test_sampler = train_test_split(images)"
   ]
  },
  {
   "cell_type": "code",
   "execution_count": null,
   "metadata": {},
   "outputs": [],
   "source": [
    "loader_train = torch.utils.data.DataLoader(dataset = images, batch_size = 64, sampler = train_sampler)\n",
    "loader_test = torch.utils.data.DataLoader(dataset = images, batch_size = 64, sampler = test_sampler)"
   ]
  },
  {
   "cell_type": "code",
   "execution_count": null,
   "metadata": {},
   "outputs": [],
   "source": [
    "print(len(loader_test)*128)\n",
    "print(len(loader_train)*128)"
   ]
  },
  {
   "cell_type": "code",
   "execution_count": null,
   "metadata": {},
   "outputs": [],
   "source": [
    "for batch, (img,y) in enumerate(loader_test):\n",
    "\n",
    "    print(img.dtype)\n",
    "    print(img.shape)\n",
    "    plt.imshow(img[0].detach().permute((1,2,0)))\n",
    "\n",
    "    break\n"
   ]
  },
  {
   "cell_type": "code",
   "execution_count": null,
   "metadata": {},
   "outputs": [],
   "source": [
    "class AutoEncoder(nn.Module):\n",
    "    def __init__(self):\n",
    "        super(AutoEncoder, self).__init__()\n",
    "\n",
    "        self.activ = nn.SELU()\n",
    "\n",
    "        self.conv1 = nn.Conv2d(in_channels=3, out_channels=20, kernel_size=7, padding= 2)\n",
    "        self.pool1 = nn.MaxPool2d(5,stride = 2)\n",
    "        self.layer1 = nn.Sequential(self.conv1,self.activ,self.pool1)\n",
    "\n",
    "        self.conv2 = nn.Conv2d(in_channels=20, out_channels=50, kernel_size=5, padding= 2)\n",
    "        self.pool2 = nn.MaxPool2d(3,stride = 2)\n",
    "        self.layer2 = nn.Sequential(self.conv2,self.activ,self.pool2)\n",
    "\n",
    "        self.conv3 = nn.Conv2d(in_channels=50, out_channels=64, kernel_size=3)\n",
    "        self.pool3 = nn.MaxPool2d(2,stride = 2)\n",
    "        self.layer3 = nn.Sequential(self.conv3,self.activ,self.pool3)\n",
    "\n",
    "        self.encode = nn.Sequential(self.layer1,self.layer2,self.layer3)\n",
    "\n",
    " \n",
    "        self.transA = nn.ConvTranspose2d(in_channels=64, out_channels=50, kernel_size=3, stride= 2)\n",
    "        self.layerA = nn.Sequential(self.transA,self.activ)\n",
    " \n",
    "        self.transB = nn.ConvTranspose2d(in_channels=50, out_channels=20, kernel_size=5, stride= 2)\n",
    "        self.layerB = nn.Sequential(self.transB,self.activ)\n",
    " \n",
    "        self.transC = nn.ConvTranspose2d(in_channels=20, out_channels=3, kernel_size=7, stride= 2)\n",
    "        self.pad = nn.ZeroPad2d((1,0,1,0))\n",
    "        self.layerC = nn.Sequential(self.transC,self.pad,self.activ)\n",
    "\n",
    "        self.decode = nn.Sequential(self.layerA,self.layerB,self.layerC)\n",
    "\n",
    "\n",
    "\n",
    "    \n",
    "\n",
    "    def forward(self,x):\n",
    "        encoded = self.encode(x)\n",
    "        decoded  = self.decode(encoded)\n",
    "        return decoded\n",
    "\n",
    "\n"
   ]
  },
  {
   "cell_type": "code",
   "execution_count": null,
   "metadata": {},
   "outputs": [],
   "source": [
    "def train(dataloader, model, loss_fn, optimizer, device):\n",
    "\n",
    "        size = len(dataloader.dataset)\n",
    "        model.train()\n",
    "\n",
    "        train_loss = 0\n",
    "        \n",
    "        for batch, (img,y) in enumerate(dataloader):\n",
    "            img = img.to(device)\n",
    "            pred = model(img)\n",
    "\n",
    "            loss = loss_fn(pred,img)\n",
    "            train_loss += loss.item()\n",
    "\n",
    "            optimizer.zero_grad()\n",
    "            loss.backward(retain_graph = True)\n",
    "            optimizer.step()\n",
    "\n",
    "            if batch % 50 == 0:\n",
    "                loss, current = loss.item(), batch * len(img)\n",
    "                print(f\"loss: {loss:>7f}  [{current:>5d}/{size:>5d}]\") \n",
    "        \n",
    "        train_loss = train_loss/batch+1\n",
    "        return train_loss\n",
    "          "
   ]
  },
  {
   "cell_type": "code",
   "execution_count": null,
   "metadata": {},
   "outputs": [],
   "source": [
    "def test(dataloader, model, loss_fn, device):\n",
    "    size = len(dataloader.dataset)\n",
    "    num_batches = len(dataloader)\n",
    "    model.eval()\n",
    "    test_loss = 0\n",
    "\n",
    "    with torch.no_grad():\n",
    "        for (img,y) in dataloader:\n",
    "            img = img.to(device)\n",
    "            pred = model(img)\n",
    "            test_loss += loss_fn(pred, img).item()\n",
    "    \n",
    "    test_loss /= num_batches\n",
    "    print(f\"Test Error: \\n Avg loss: {test_loss:>8f} \\n\")\n",
    "    return test_loss"
   ]
  },
  {
   "cell_type": "code",
   "execution_count": null,
   "metadata": {},
   "outputs": [],
   "source": [
    "device = \"cuda\" if torch.cuda.is_available() else \"cpu\"\n",
    "\n",
    "# device = 'cpu'\n",
    "\n",
    "network = AutoEncoder().to(device)\n",
    "network = network.float()\n"
   ]
  },
  {
   "cell_type": "code",
   "execution_count": null,
   "metadata": {},
   "outputs": [],
   "source": [
    "loss_fn = nn.MSELoss()\n",
    "optimizer = torch.optim.SGD(network.parameters(), lr=1e-3)"
   ]
  },
  {
   "cell_type": "code",
   "execution_count": null,
   "metadata": {},
   "outputs": [],
   "source": [
    "epoch_nums = []\n",
    "training_loss = []\n",
    "validation_loss = []\n",
    "\n",
    "epochs = 100\n",
    "\n",
    "for epoch in range(epochs):\n",
    "    print(f\"Epoch {epoch+1}\\n-------------------------------\")\n",
    "\n",
    "    train_loss = train(loader_train, network, loss_fn, optimizer, device)\n",
    "    test_loss = test(loader_test, network, loss_fn, device)\n",
    "\n",
    "    epoch_nums.append(epoch)\n",
    "    training_loss.append(train_loss)\n",
    "    validation_loss.append(test_loss)\n",
    "\n",
    "    if epoch%10 == 0:\n",
    "        torch.save(network.state_dict(), \"AutoEncoder_Weights.h5\")\n",
    "\n",
    "print(\"Done!\")"
   ]
  },
  {
   "cell_type": "code",
   "execution_count": null,
   "metadata": {},
   "outputs": [],
   "source": [
    "plt.figure(figsize=(15,15))\n",
    "plt.plot(epoch_nums, training_loss)\n",
    "plt.plot(epoch_nums, validation_loss)\n",
    "plt.xlabel('epoch')\n",
    "plt.ylabel('loss')\n",
    "plt.legend(['training', 'validation'], loc='upper right')\n",
    "plt.show()"
   ]
  }
 ],
 "metadata": {
  "kernelspec": {
   "display_name": "Python 3.8.10 64-bit",
   "language": "python",
   "name": "python3"
  },
  "language_info": {
   "codemirror_mode": {
    "name": "ipython",
    "version": 3
   },
   "file_extension": ".py",
   "mimetype": "text/x-python",
   "name": "python",
   "nbconvert_exporter": "python",
   "pygments_lexer": "ipython3",
   "version": "3.8.10"
  },
  "orig_nbformat": 4,
  "vscode": {
   "interpreter": {
    "hash": "916dbcbb3f70747c44a77c7bcd40155683ae19c65e1c03b4aa3499c5328201f1"
   }
  }
 },
 "nbformat": 4,
 "nbformat_minor": 2
}
